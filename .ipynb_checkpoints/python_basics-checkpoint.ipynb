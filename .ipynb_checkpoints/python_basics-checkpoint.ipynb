{
 "cells": [
  {
   "cell_type": "markdown",
   "id": "a96450c5-106e-4372-b5ee-8ecc1cc2c8b5",
   "metadata": {
    "id": "a96450c5-106e-4372-b5ee-8ecc1cc2c8b5"
   },
   "source": [
    "# **Deep Knowledge Tracing을 위한 Python 기초**\n",
    "\n",
    "제작자: 이런 (learn@kakao.com)"
   ]
  },
  {
   "cell_type": "markdown",
   "id": "0379b229-6f2f-4f4b-87f8-d4af0274f61b",
   "metadata": {
    "id": "0379b229-6f2f-4f4b-87f8-d4af0274f61b"
   },
   "source": [
    "### **[필독] 사용 방법**\n",
    "**먼저 이 파일의 사본을 구글 드라이브에 저장한 뒤 사용하세요!**  (아래 그림 참고)\n",
    "\n",
    "사본을 저장하지 않을 경우 재접속시 입력 내용이 사라집니다.\n",
    "\n",
    "![이미지](https://raw.githubusercontent.com/teachsavvy/python_basics/main/save_copy.png)\n",
    "\n",
    "- Colab 화면 좌측 상단 '파일' → '드라이브에 사본 저장'\n",
    "- 사본 화면에서 작업 시, 입력 내용이 구글 드라이브에 자동 저장됩니다.\n",
    "---"
   ]
  },
  {
   "cell_type": "markdown",
   "id": "461e6d55-b631-408e-a42e-b2ed0002ea3e",
   "metadata": {
    "id": "461e6d55-b631-408e-a42e-b2ed0002ea3e"
   },
   "source": [
    "## **1. 프로그래밍 감 잡기**\n",
    "\n",
    "모국어를 유창하게 구사하는 우리에게 프로그래밍 언어의 기본 문법과 구문이 필요한 이유가 뭘까요?\\\n",
    "프로그래밍 언어는 인간이 사용하는 언어와는 다르기 때문입니다. \n",
    "\n",
    "우리가 기본 문법과 구문을 배우는 과정에서 중요한 것은,\\\n",
    "**프로그래밍 언어와 인간 언어의 차이를 이해**하고,\\\n",
    "**프로그래밍 언어에 맞는 사고방식을 익히는 것**입니다.\n",
    "\n",
    "그럼 Python은 우리가 쓰는 한국어와 어떻게 다른지,\\\n",
    "어떻게 하면 그 차이를 극복하면서 프로그래밍에 다가갈 수 있을지 생각해보겠습니다."
   ]
  },
  {
   "cell_type": "markdown",
   "id": "128d632d-5730-4d63-bad3-9a6577f21e35",
   "metadata": {
    "id": "128d632d-5730-4d63-bad3-9a6577f21e35"
   },
   "source": [
    "### **1.1. 한국어 vs Python**\n",
    "1) 영어로 되어 있다\n",
    "\n",
    "2) 개떡 같이 말하면 개떡 같이 알아듣는다\n",
    "\n",
    "3) 하나를 말하면 하나만 안다"
   ]
  },
  {
   "cell_type": "markdown",
   "id": "bcdab17d-67ef-463d-9bb1-3bbcf11e8fb1",
   "metadata": {
    "id": "bcdab17d-67ef-463d-9bb1-3bbcf11e8fb1"
   },
   "source": [
    "### **1.2. 프로그램의 기본 구조**\n",
    "\n",
    "**입력(input) --처리과정(process)-> 출력(output)**\n",
    "\n",
    "- 입력: 원래 데이터 (원 데이터)\n",
    "\n",
    "- 출력: 원하는 데이터 (변형된/가공된 데이터)\n",
    "\n",
    "- 처리과정: 원래 데이터를 원하는 데이터로 변형/가공하는 과정"
   ]
  },
  {
   "cell_type": "markdown",
   "id": "bc1dca8b-d97b-446c-bd51-99c09b84f951",
   "metadata": {
    "id": "bc1dca8b-d97b-446c-bd51-99c09b84f951"
   },
   "source": [
    "### **1.3. Python 기초 학습의 목적**\n",
    "\n",
    "**1) 컴퓨터 같은 사고방법 익히기**\n",
    "\n",
    "- 어떤 처리과정을 거쳐서\n",
    "\n",
    "- 입력을 출력으로 바꿀지\n",
    "\n",
    "- 단계별로 쪼개어 상상하고\n",
    "\n",
    "- 모국어로 그 과정을 설명할 수 있어야 합니다.\n",
    "\n",
    "**2) 모국어와 Python 연결하기**\n",
    "\n",
    "- 모국어로 표현된 작업을 컴퓨터의 언어로,\n",
    "\n",
    "- 컴퓨터의 언어로 표현된 작업을 모국어로\n",
    "\n",
    "- 번역할 수 있어야 합니다.\n",
    "\n",
    "**(유의할 점)** <u>컴퓨터 언어를 몰라도 1은 할 수 있습니다.</u>\n",
    "\n",
    "---\n"
   ]
  },
  {
   "cell_type": "markdown",
   "id": "20131ca8-20a7-4611-a596-0cc314b0b36a",
   "metadata": {
    "id": "20131ca8-20a7-4611-a596-0cc314b0b36a"
   },
   "source": [
    "## **2. 좋아하는 가수 알아보기**\n",
    "\n",
    "![이미지](https://raw.githubusercontent.com/teachsavvy/python_basics/main/profile.png)\n",
    "\n",
    "인터넷에 좋아하는 **가수의 프로필**을 검색해본 적이 있으신가요?\\\n",
    "대개 검색 결과에는 **이름, 생년월일, 소속그룹, 소속사** 등의 정보가 담긴 프로필이 있습니다.\n",
    "\n",
    "검색 화면에 보이는 정보는 어디에서 왔을까요?\\\n",
    "아마 포털 사이트 서버 안에 **표의 형태로 저장**되어 있었겠죠. \n",
    "    \n",
    "그럼 지금부터 Python 상에서 **좋아하는 가수의 정보를 입력하고 출력**해보겠습니다."
   ]
  },
  {
   "cell_type": "markdown",
   "id": "8dcc277b-3410-4ad6-b133-48adee1f4d20",
   "metadata": {
    "id": "8dcc277b-3410-4ad6-b133-48adee1f4d20"
   },
   "source": [
    "### **2.1. 정보 입출력하기**\n",
    "\n",
    "위 프로필에 있는 이름, 출생, 소속그룹, 소속사를 컴퓨터가 기억하게 하고, 저장한 값을 불러와 화면에 띄워보겠습니다."
   ]
  },
  {
   "cell_type": "markdown",
   "id": "365b5b54-4962-4807-b708-2dc41089c868",
   "metadata": {
    "id": "365b5b54-4962-4807-b708-2dc41089c868"
   },
   "source": [
    "#### **데이터 입력: =**\n",
    "Python에서는 특정한 값(문자열이나 숫자)을 저장하고 싶을 때 등호(=)를 씁니다.\n",
    "\n",
    "    (이름) = (저장할 값)\n",
    "\n",
    "아래 예시를 보세요."
   ]
  },
  {
   "cell_type": "code",
   "execution_count": 41,
   "id": "b035469f-41e8-45fb-bb51-c26e3e94cb3b",
   "metadata": {
    "id": "b035469f-41e8-45fb-bb51-c26e3e94cb3b"
   },
   "outputs": [],
   "source": [
    "name = \"윈터\" # <- \"윈터\"라는 값을 name이라는 이름으로 저장해둬!\n",
    "\n",
    "group = \"에스파\" # <- \"에스파\"라는 값을 group이라는 이름으로 저장해둬!\n",
    "\n",
    "age = 21 # <- 21이라는 값을 age라는 이름으로 저장해둬!\n",
    "\n",
    "# 아무 일도 일어나지 않아야 정상입니다."
   ]
  },
  {
   "cell_type": "markdown",
   "id": "41c42240-db81-4213-8917-d5ef9768d20f",
   "metadata": {
    "id": "41c42240-db81-4213-8917-d5ef9768d20f"
   },
   "source": [
    "#### **데이터 출력: print()**\n",
    "\n",
    "Python에서는 기억된 값을 화면에 띄울 때 print() 라는 기능을 씁니다.\n",
    "\n",
    "아래와 같이 띄우고 싶은 값의 이름을 괄호 안에 넣어주시면 됩니다.\n",
    "\n",
    "    print(이름)\n",
    "\n",
    "아래 예시를 보세요."
   ]
  },
  {
   "cell_type": "code",
   "execution_count": 42,
   "id": "398c2a70-c445-4f54-8f7b-7a49d610fdac",
   "metadata": {
    "colab": {
     "base_uri": "https://localhost:8080/"
    },
    "id": "398c2a70-c445-4f54-8f7b-7a49d610fdac",
    "outputId": "ee228358-09e4-4506-da39-6c9201730e0c"
   },
   "outputs": [
    {
     "name": "stdout",
     "output_type": "stream",
     "text": [
      "윈터\n",
      "에스파\n",
      "21\n",
      "윈터 에스파 21\n"
     ]
    }
   ],
   "source": [
    "print(name)\n",
    "print(group)\n",
    "print(age)\n",
    "print(name, group, age)"
   ]
  },
  {
   "cell_type": "markdown",
   "id": "76b6ead2-6212-4cb8-9b18-0960a28c7a9a",
   "metadata": {
    "id": "76b6ead2-6212-4cb8-9b18-0960a28c7a9a"
   },
   "source": [
    "### **2.2. 프로필 통째로 입출력하기**\n",
    "#### **딕셔너리**\n",
    "데이터를 **표로 나타낼 수 있다면**, Python에서는 **딕셔너리(dictionary)** 의 형태로 저장 가능합니다.\n",
    "\n",
    "사전에는 단어와 설명이 짝을 지어 정리되어 있죠.\\\n",
    "Python의 딕셔너리에도 사전처럼 정보의 이름과 내용을 짝지어 저장됩니다.\n",
    "\n",
    "이번에는 윈터의 **프로필을 딕셔너리에 통째로 저장**해보겠습니다."
   ]
  },
  {
   "cell_type": "markdown",
   "id": "c6796cd3-170b-43c8-8576-bea7169537ca",
   "metadata": {
    "id": "c6796cd3-170b-43c8-8576-bea7169537ca"
   },
   "source": [
    "#### **딕셔너리 생성: {}**\n",
    "\n",
    "- **딕셔너리는 중괄호 {}로** 만들 수 있습니다.\n",
    "\n",
    "        profile = {}\n",
    "        \n",
    "#### **딕셔너리 입력**\n",
    "- 생성 시: 중괄호 안에 저장할 **값의 이름과 내용을 따옴표(:)로 연결**해서 넣어주면 됩니다.\n",
    "\n",
    "        profile = {이름: 윈터}\n",
    "        \n",
    "- 생성 후: 딕셔너리 이름 옆 **대괄호([])에 값의 이름**을 넣고, **값을 등호(=)로 입력**하면 됩니다\n",
    "\n",
    "        profile['이름'] = '윈터'\n",
    "\n",
    "아래 예시를 보세요."
   ]
  },
  {
   "cell_type": "code",
   "execution_count": 43,
   "id": "38b0a7d9-d60b-4cdf-8200-2c92dc3ee5ba",
   "metadata": {
    "id": "38b0a7d9-d60b-4cdf-8200-2c92dc3ee5ba"
   },
   "outputs": [],
   "source": [
    "# 빈 딕셔너리 만들기\n",
    "profile = {} # 이름이 profile인 빈 딕셔너리 만들어줘!\n",
    "\n",
    "# 이름만 넣어서 만들어보기\n",
    "profile = {\"이름\": \"윈터\"} # 표를 만들어서 '이름' 열에 '윈터'를 저장해줘!\n",
    "\n",
    "# 딕셔너리에 프로필 통째로 입력하기\n",
    "profile = {\n",
    "            \"이름\": \"윈터\",\n",
    "            \"출생\": \"2001년 1월 1일\",\n",
    "            \"소속그룹\": \"에스파\",\n",
    "            \"소속사\": \"SM엔터테인먼트\",\n",
    "          }\n",
    "\n",
    "# 딕셔너리에 정보 추가\n",
    "profile['국적'] = \"대한민국\""
   ]
  },
  {
   "cell_type": "markdown",
   "id": "a899122d-82ca-42f1-941e-96340123f626",
   "metadata": {},
   "source": [
    "#### **딕셔너리 출력**\n",
    "\n",
    "- 전체 출력: 딕셔너리도 print() 안에 넣으면 전체를 출력할 수 있습니다.\n",
    "\n",
    "        print(profile)\n",
    "        \n",
    "- 부분 출력: 딕셔너리 이름 옆 **대괄호([])에 값의 이름**을 넣고, print()로 출력합니다.\n",
    "\n",
    "        print(profile['이름'])"
   ]
  },
  {
   "cell_type": "code",
   "execution_count": 44,
   "id": "ba5966f7-411c-4f3f-8372-f0144cbc0718",
   "metadata": {
    "colab": {
     "base_uri": "https://localhost:8080/"
    },
    "id": "ba5966f7-411c-4f3f-8372-f0144cbc0718",
    "outputId": "bfdc3116-ed08-4137-b90b-94361a2aaf91"
   },
   "outputs": [
    {
     "name": "stdout",
     "output_type": "stream",
     "text": [
      "{'이름': '윈터', '출생': '2001년 1월 1일', '소속그룹': '에스파', '소속사': 'SM엔터테인먼트', '국적': '대한민국'}\n",
      "윈터\n",
      "2001년 1월 1일\n",
      "에스파\n",
      "SM엔터테인먼트\n",
      "대한민국\n"
     ]
    }
   ],
   "source": [
    "## 전체 출력하기\n",
    "print(profile)\n",
    "\n",
    "## 부분 출력\n",
    "## 이름만\n",
    "print(profile[\"이름\"])\n",
    "\n",
    "## 출생만\n",
    "print(profile[\"출생\"])\n",
    "\n",
    "## 소속그룹만\n",
    "print(profile[\"소속그룹\"])\n",
    "\n",
    "## 소속사만\n",
    "print(profile[\"소속사\"])\n",
    "\n",
    "## 국적만\n",
    "print(profile[\"국적\"])"
   ]
  },
  {
   "cell_type": "markdown",
   "id": "1b0c40bd-53c4-41f6-88e9-2bcf5db735cb",
   "metadata": {
    "id": "1b0c40bd-53c4-41f6-88e9-2bcf5db735cb"
   },
   "source": [
    "## **3. 좋아하는 가수 더 알아보기**"
   ]
  },
  {
   "cell_type": "markdown",
   "id": "0e3501ab-12bf-4364-a22d-2327b660e1ca",
   "metadata": {
    "id": "0e3501ab-12bf-4364-a22d-2327b660e1ca"
   },
   "source": [
    "![이미지](https://raw.githubusercontent.com/teachsavvy/python_basics/main/profile_detailed.png)\n",
    "\n",
    "에스파 윈터의 상세 프로필에는 나이, 만 나이, 별자리가 있습니다.\n",
    "\n",
    "네이버에서 나이, 만 나이, 별자리를 매번 수동으로 업데이트할까요?\\\n",
    "매년 나이를 바꾸고, 생일이 지날 때마다 만 나이를 바꾸기는 너무 번거롭죠.\n",
    "\n",
    "위 세 값들은 출생일자만 있으면 판단이 가능합니다.\\\n",
    "그럼 이번에는 앞서 만든 **프로필을 변형해 다음 정보를 추가**해보도록 하겠습니다.\n",
    "1. 나이 (출생일자로)\n",
    "2. 외국인 여부 (국적으로)\n",
    "\n"
   ]
  },
  {
   "cell_type": "markdown",
   "id": "a3ac80f4-b429-4eaf-b122-6b97def9bad2",
   "metadata": {
    "id": "8cbb2072-f903-4bde-858f-664affb758ef"
   },
   "source": [
    "### **3.1. 나이 계산하기**\n",
    "\n",
    "#### **입력**\n",
    "- 출생: 2001년 1월 1일(문자열)\n",
    "\n",
    "#### **출력**\n",
    "- 나이: 21(숫자)\n",
    "\n",
    "#### **처리과정(한국어)**\n",
    "\n",
    "1. 출생 데이터를 가져온다: \"2001년 1월 1일\"\n",
    "\n",
    "2. 출생에서 4번째 글자까지 자른다: \"2001\" **(문자열 자르기)**\n",
    "    \n",
    "3. 자른 내용을 숫자로 바꾼다: 2001 **(문자열 → 정수 변환)**\n",
    "    \n",
    "4. 나이를 계산한다: 2021-2001+1 = 21 **(숫자 계산)**\n",
    "    \n",
    "5. 프로필에 저장한다\n",
    "\n",
    "6. (필요한 경우) 출력한다"
   ]
  },
  {
   "cell_type": "markdown",
   "id": "6f2ff5a2-35d5-4857-8971-d7c72a8ff98c",
   "metadata": {
    "id": "8cbb2072-f903-4bde-858f-664affb758ef"
   },
   "source": [
    "#### **코드(Python)**\n",
    "**1. 문자열 자르기**\n",
    "- **문자열 이름[시작 위치: 끝나는 위치+1]**\n",
    "\n",
    "- 예시) \"2001년 1월 1일\"에서 앞 4글자(\"2001\")만 자르고 싶다면\n",
    "\n",
    "        text = \"2001년 1월 1일\"\n",
    "        text[:4] # <- \"2001\"\n",
    "        text[:5] # <- \"2001년\"\n",
    "        \n",
    "아래 예시를 보세요."
   ]
  },
  {
   "cell_type": "code",
   "execution_count": 45,
   "id": "9f427fc2-ce47-4eba-a53d-c1c90ea66ece",
   "metadata": {
    "colab": {
     "base_uri": "https://localhost:8080/"
    },
    "id": "9f427fc2-ce47-4eba-a53d-c1c90ea66ece",
    "outputId": "070f6e7e-739f-4f03-871e-badd97c25eca"
   },
   "outputs": [
    {
     "name": "stdout",
     "output_type": "stream",
     "text": [
      "2001년 1월 1일\n",
      "2001\n"
     ]
    }
   ],
   "source": [
    "# 문자열 자르기\n",
    "\n",
    "# 원본\n",
    "text = profile[\"출생\"]\n",
    "print(text)\n",
    "\n",
    "# 앞에서부터 4글자만 자르기\n",
    "year_text = text[:4]\n",
    "print(year_text) # 자르는 위치를 바꿔가면서 테스트해보세요.\n"
   ]
  },
  {
   "cell_type": "markdown",
   "id": "88425d10-a871-48ed-b974-5d0931ec4785",
   "metadata": {
    "id": "88425d10-a871-48ed-b974-5d0931ec4785"
   },
   "source": [
    "**2. 문자열을 숫자로 바꾸기**\n",
    "\n",
    "- **int(문자열)**\n",
    "- 문자열은 영어로 string, 숫자(정수)는 영어로 integer\n",
    "\n",
    "        ex) int(\"2001\") # <- 2001\n",
    "        \n",
    "        \n",
    "아래 예시를 보세요."
   ]
  },
  {
   "cell_type": "code",
   "execution_count": 46,
   "id": "b4caabd2-c0cd-47b2-8102-4163e02bf33d",
   "metadata": {
    "colab": {
     "base_uri": "https://localhost:8080/"
    },
    "id": "b4caabd2-c0cd-47b2-8102-4163e02bf33d",
    "outputId": "1e4346b9-b82e-4af4-db16-c94596e71c9d"
   },
   "outputs": [
    {
     "name": "stdout",
     "output_type": "stream",
     "text": [
      "2001 <class 'str'>\n",
      "2001 <class 'int'>\n"
     ]
    }
   ],
   "source": [
    "# 연도 문자열과 그 자료형(type) 출력\n",
    "print(year_text, type(year_text)) \n",
    "\n",
    "# 문자를 숫자(정수)로 바꿔 저장하기\n",
    "year = int(year_text)\n",
    "\n",
    "# 연도 숫자와 그 자료형(type) 출력\n",
    "print(year, type(year))\n",
    "\n",
    "# 숫자는 동일하게 출력되고 자료형은 각각 str, int여야 합니다"
   ]
  },
  {
   "cell_type": "markdown",
   "id": "cd001f37-1c15-464d-b293-4d89b62d2a2b",
   "metadata": {
    "id": "cd001f37-1c15-464d-b293-4d89b62d2a2b"
   },
   "source": [
    "**3. 숫자 계산하기**\n",
    "\n",
    "- 문자열(str)은 연산이 안 됩니다.\n",
    "\n",
    "- 정수(int)는 연산이 됩니다.\n",
    "\n",
    "아래 예시를 보세요."
   ]
  },
  {
   "cell_type": "code",
   "execution_count": 47,
   "id": "16577211-f99e-4dc4-b4df-b084bc3939f4",
   "metadata": {
    "colab": {
     "base_uri": "https://localhost:8080/",
     "height": 251
    },
    "id": "16577211-f99e-4dc4-b4df-b084bc3939f4",
    "outputId": "f51b7bc2-82fc-4024-c9e2-50f3d7425db1"
   },
   "outputs": [
    {
     "ename": "TypeError",
     "evalue": "can only concatenate str (not \"int\") to str",
     "output_type": "error",
     "traceback": [
      "\u001b[1;31m---------------------------------------------------------------------------\u001b[0m",
      "\u001b[1;31mTypeError\u001b[0m                                 Traceback (most recent call last)",
      "\u001b[1;32m<ipython-input-47-9b7a4cf6e392>\u001b[0m in \u001b[0;36m<module>\u001b[1;34m\u001b[0m\n\u001b[0;32m      2\u001b[0m \u001b[1;33m\u001b[0m\u001b[0m\n\u001b[0;32m      3\u001b[0m \u001b[1;31m# 덧셈\u001b[0m\u001b[1;33m\u001b[0m\u001b[1;33m\u001b[0m\u001b[1;33m\u001b[0m\u001b[0m\n\u001b[1;32m----> 4\u001b[1;33m \u001b[0mprint\u001b[0m\u001b[1;33m(\u001b[0m\u001b[0myear_text\u001b[0m \u001b[1;33m+\u001b[0m \u001b[1;36m1\u001b[0m\u001b[1;33m)\u001b[0m\u001b[1;33m\u001b[0m\u001b[1;33m\u001b[0m\u001b[0m\n\u001b[0m\u001b[0;32m      5\u001b[0m \u001b[1;33m\u001b[0m\u001b[0m\n\u001b[0;32m      6\u001b[0m \u001b[1;31m# 곱셈\u001b[0m\u001b[1;33m\u001b[0m\u001b[1;33m\u001b[0m\u001b[1;33m\u001b[0m\u001b[0m\n",
      "\u001b[1;31mTypeError\u001b[0m: can only concatenate str (not \"int\") to str"
     ]
    }
   ],
   "source": [
    "# 문자열은 연산이 안 된다\n",
    "\n",
    "# 덧셈\n",
    "print(year_text + 1)\n",
    "\n",
    "# 곱셈\n",
    "print(year_text * 100)\n",
    "\n",
    "# 자료형 에러(TypeError)가 나오면 정상입니다"
   ]
  },
  {
   "cell_type": "code",
   "execution_count": 48,
   "id": "99b729a4-cd40-41d6-b797-9b5de2a5388e",
   "metadata": {
    "colab": {
     "base_uri": "https://localhost:8080/"
    },
    "id": "99b729a4-cd40-41d6-b797-9b5de2a5388e",
    "outputId": "8ad80973-4394-488b-d5a4-faaacc976e53"
   },
   "outputs": [
    {
     "name": "stdout",
     "output_type": "stream",
     "text": [
      "2002\n",
      "200100\n"
     ]
    }
   ],
   "source": [
    "# 숫자는 연산이 된다\n",
    "\n",
    "# 덧셈\n",
    "print(year + 1) # 2001 + 1\n",
    "\n",
    "# 곱셈\n",
    "print(year * 100) # 2001 * 100"
   ]
  },
  {
   "cell_type": "markdown",
   "id": "0099ae72-c14e-46ba-a8b4-04f6fd2b9650",
   "metadata": {},
   "source": [
    "**[종합] 나이 계산하기**"
   ]
  },
  {
   "cell_type": "code",
   "execution_count": 49,
   "id": "a62d4e4f-e91a-4893-aab3-f886d29dd09a",
   "metadata": {
    "colab": {
     "base_uri": "https://localhost:8080/"
    },
    "id": "a62d4e4f-e91a-4893-aab3-f886d29dd09a",
    "outputId": "e1879de3-0cf3-4ce7-bc3b-7d11603cd5f0"
   },
   "outputs": [
    {
     "name": "stdout",
     "output_type": "stream",
     "text": [
      "21\n",
      "21\n",
      "{'이름': '윈터', '출생': '2001년 1월 1일', '소속그룹': '에스파', '소속사': 'SM엔터테인먼트', '국적': '대한민국', '나이': 21}\n"
     ]
    }
   ],
   "source": [
    "# 나이 계산하기\n",
    "year_text = profile[\"출생\"][:4] # 출생연도만 자르기\n",
    "year = int(year_text) # 연산 가능한 정수로 바꾸기\n",
    "age = 2021 - year + 1 # 한국 나이 구하기 (2022 - year도 동일)\n",
    "\n",
    "# 나이 출력하기\n",
    "print(age)\n",
    "\n",
    "# 프로필에 저장하기\n",
    "profile[\"나이\"] = age\n",
    "\n",
    "# 저장된 것 확인하기\n",
    "print(profile[\"나이\"])\n",
    "print(profile)"
   ]
  },
  {
   "cell_type": "code",
   "execution_count": 50,
   "id": "6033ee2a-b15d-4930-92ed-cf076d4ea6d4",
   "metadata": {},
   "outputs": [
    {
     "name": "stdout",
     "output_type": "stream",
     "text": [
      "{'이름': '윈터', '출생': '2001년 1월 1일', '소속그룹': '에스파', '소속사': 'SM엔터테인먼트', '국적': '대한민국', '나이': 21}\n"
     ]
    }
   ],
   "source": [
    "# 나이 계산하여 저장하기\n",
    "profile[\"나이\"] = 2022 - int(profile[\"출생\"][:4])\n",
    "print(profile)"
   ]
  },
  {
   "cell_type": "markdown",
   "id": "847dd292-4de3-49db-8b7a-c43e64fd85e2",
   "metadata": {
    "id": "847dd292-4de3-49db-8b7a-c43e64fd85e2"
   },
   "source": [
    "### **3.2. 외국인 여부 확인하기**\n",
    "#### **입력**\n",
    "- 국적: 대한민국(문자열)\n",
    "\n",
    "#### **출력**\n",
    "- 외국인 여부: 외국인이면 True, 아니면 False\n",
    "\n",
    "#### **처리과정**\n",
    "1. 국적 정보를 가져온다\n",
    "2. 국적이 '대한민국'이 아닌지 확인한다: **같다/다르다 판단**\n",
    "3. 외국인 여부를 판단한다: **참/거짓 판단해 코드 실행** (국적이 '대한민국'이 아니면 True, 맞으면 False) \n",
    "4. 프로필에 외국인 여부를 저장한다\n",
    "5. (필요 시) 출력한다"
   ]
  },
  {
   "cell_type": "markdown",
   "id": "d9810c3e-5035-46d2-bbb9-4172ba7d0f7f",
   "metadata": {
    "id": "d9810c3e-5035-46d2-bbb9-4172ba7d0f7f"
   },
   "source": [
    "#### **코드**\n",
    "**1. 같다/다르다**\n",
    "- 같다: ==\n",
    "- 다르다: !=\n",
    "\n",
    "**2. 참/거짓 판단해 코드 실행: 조건문**\n",
    "- **if-else: 특정 조건이 참(True)일 때만 코드 실행하게 하는 방법**\n",
    "- **한국어**\\\n",
    ": 만약 윈터의 국적이 \"대한민국\"이 아니면 외국인이고(True), 맞으면 외국인이 아니야(False).\n",
    "\n",
    "- **영어**\\\n",
    ": If Winter's nationality is not \"대한민국\", then she is a foreigner. If it is, then, she is not a foreigner. \n",
    "\n",
    "- **Python**\n",
    "    - 만약: if\n",
    "    - 윈터의 국적이 대한민국이 아니면: nationality != \"대한민국\" \n",
    "    - 외국인이고: foreign = True\n",
    "    - 맞으면: else\n",
    "    - 외국인이 아니야: foreign = False\n",
    "\n",
    "아래 예시를 보세요."
   ]
  },
  {
   "cell_type": "code",
   "execution_count": 51,
   "id": "6f9803b7-ec2f-471c-bb57-05c305075b46",
   "metadata": {},
   "outputs": [
    {
     "name": "stdout",
     "output_type": "stream",
     "text": [
      "False\n",
      "{'이름': '윈터', '출생': '2001년 1월 1일', '소속그룹': '에스파', '소속사': 'SM엔터테인먼트', '국적': '대한민국', '나이': 21, '외국인': False}\n"
     ]
    }
   ],
   "source": [
    "# 국적 가져오기\n",
    "nationality = profile[\"국적\"]\n",
    "\n",
    "# 외국인 여부 판단하기\n",
    "# 국적이 '대한민국'이 아니면 외국인이고\n",
    "if nationality != \"대한민국\": \n",
    "    foreign = True\n",
    "# 국적이 '대한민국'이면 외국인이 아니야\n",
    "else: \n",
    "    foreign = False\n",
    "    \n",
    "# 외국인 여부 프로필에 저장하기\n",
    "profile[\"외국인\"] = foreign\n",
    "\n",
    "# 결과 확인\n",
    "print(profile[\"외국인\"])\n",
    "print(profile)"
   ]
  },
  {
   "cell_type": "markdown",
   "id": "0ee780ac-0a6e-4aee-acbe-c0c6896f78be",
   "metadata": {
    "id": "0ee780ac-0a6e-4aee-acbe-c0c6896f78be"
   },
   "source": [
    "#### **(심화) 같다/다르다 연산자 활용하기**\n",
    "- 같다: ==\n",
    "\n",
    "        1 == 1   # -> 결과값은 True\n",
    "        1 == 2   # -> 결과값은 False\n",
    "        1 == '1' # -> 결과값은 False\n",
    "        \n",
    "\n",
    "- 다르다: !=\n",
    "\n",
    "        1 != 1   # -> 결과값은 False\n",
    "        1 != 2   # -> 결과값은 True\n",
    "        1 != '1' # -> 결과값은 True"
   ]
  },
  {
   "cell_type": "code",
   "execution_count": 52,
   "id": "7ad97804-22c5-40b0-bec7-a18aca42e30d",
   "metadata": {
    "colab": {
     "base_uri": "https://localhost:8080/"
    },
    "id": "c53cfec0-a4d3-4683-9bb7-c9132ae6e0a7",
    "outputId": "28539906-e884-4138-f06b-f18b8966cffe"
   },
   "outputs": [
    {
     "name": "stdout",
     "output_type": "stream",
     "text": [
      "대한민국\n",
      "True\n",
      "False\n"
     ]
    }
   ],
   "source": [
    "# 같다/다르다 연산자 연습\n",
    "print(profile[\"국적\"])\n",
    "print(profile[\"국적\"] == \"대한민국\")\n",
    "print(profile[\"국적\"] != \"대한민국\")"
   ]
  },
  {
   "cell_type": "markdown",
   "id": "105acce9-9e3b-4df5-b5d3-80ebd7696f35",
   "metadata": {},
   "source": [
    "#### **(적용) 같다/다르다 연산자로 외국인 여부 바로 저장하기**"
   ]
  },
  {
   "cell_type": "code",
   "execution_count": 53,
   "id": "79d9a19f-9b7f-4ece-a141-946558bdbe01",
   "metadata": {
    "colab": {
     "base_uri": "https://localhost:8080/"
    },
    "id": "c53cfec0-a4d3-4683-9bb7-c9132ae6e0a7",
    "outputId": "28539906-e884-4138-f06b-f18b8966cffe"
   },
   "outputs": [
    {
     "name": "stdout",
     "output_type": "stream",
     "text": [
      "False\n",
      "{'이름': '윈터', '출생': '2001년 1월 1일', '소속그룹': '에스파', '소속사': 'SM엔터테인먼트', '국적': '대한민국', '나이': 21, '외국인': False}\n"
     ]
    }
   ],
   "source": [
    "# 국적 읽어와서 외국인 여부로 바로 저장하기 (심화버전)\n",
    "profile[\"외국인\"] = profile[\"국적\"] != \"대한민국\"\n",
    "\n",
    "# 결과 확인\n",
    "print(profile[\"외국인\"])\n",
    "print(profile)"
   ]
  },
  {
   "cell_type": "markdown",
   "id": "17cd1960-4b8a-46e1-8a0b-00c53958a3ff",
   "metadata": {
    "id": "17cd1960-4b8a-46e1-8a0b-00c53958a3ff"
   },
   "source": [
    "### **[과제] 만 나이 계산하기**\n",
    "\n",
    "프로필에 있는 출생 정보로부터 만 나이를 계산해서 프로필에 저장해보세요.\n",
    "\n",
    "- 입력: 딕셔너리 형태의 프로필(이름, 출생 포함)\n",
    "\n",
    "- 출력: 딕셔너리 형태의 프로필(이름, 출생, 만 나이 포함)\n",
    "\n",
    "- 유의점\n",
    "    1. 만 나이는 생일이 지날 때마다 한 살씩 많아집니다.\n",
    "    2. 2021년 8월 1일을 기준으로 만 나이를 계산하세요.\n",
    "    3. 반드시 한글로 처리과정을 쓴 다음 코드를 작성하세요. (바로 복사+붙여넣기 금지)"
   ]
  },
  {
   "cell_type": "markdown",
   "id": "cc32dc15-f3b1-4953-830d-6e5cd0bbcb68",
   "metadata": {
    "id": "cc32dc15-f3b1-4953-830d-6e5cd0bbcb68"
   },
   "source": [
    "#### **답안**"
   ]
  },
  {
   "cell_type": "code",
   "execution_count": 54,
   "id": "e6931131-ce01-4769-bf49-5fdba27969f4",
   "metadata": {
    "id": "e6931131-ce01-4769-bf49-5fdba27969f4"
   },
   "outputs": [],
   "source": [
    "# 프로필 (원하는 가수로 변경 가능)\n",
    "profile2 = {\n",
    "            \"이름\": \"윈터\",\n",
    "            \"출생\": \"2001년 1월 1일\",\n",
    "            \"소속그룹\": \"에스파\",\n",
    "            \"소속사\": \"SM엔터테인먼트\",\n",
    "            \"국적\": \"대한민국\"\n",
    "          }\n",
    "\n",
    "############## 코드를 입력하세요 ###############\n",
    "\n",
    "# 만 나이 구해서 저장하기\n",
    "\n",
    "\n",
    "\n",
    "# 업데이트된 프로필 출력하기\n",
    "\n",
    "\n",
    "\n",
    "\n",
    "#############################################"
   ]
  },
  {
   "cell_type": "markdown",
   "id": "8275b300-baa6-41f2-98fc-6b41590d5a68",
   "metadata": {},
   "source": [
    "---"
   ]
  },
  {
   "cell_type": "markdown",
   "id": "68f92fab-0a32-4dbf-8e28-ee3aa266aa57",
   "metadata": {
    "id": "68f92fab-0a32-4dbf-8e28-ee3aa266aa57"
   },
   "source": [
    "## **4. 좋아하는 가수 소개하기**\n",
    "\n",
    "앞서 가수의 프로필을 딕셔너리에 저장하고, 그 값을 출력해보았습니다.\n",
    "\n",
    "그럼 이번에는 **가수의 프로필을 완성된 문장 형태의 소개글로 만들어 출력**해보도록 하겠습니다."
   ]
  },
  {
   "cell_type": "markdown",
   "id": "fae4a105-0c26-4f1a-86a0-8a4d56e5c058",
   "metadata": {
    "id": "fae4a105-0c26-4f1a-86a0-8a4d56e5c058"
   },
   "source": [
    "### **소개글 쓰고 출력하기**\n",
    "#### **입력**\n",
    "- 윈터의 프로필(딕셔너리)\n",
    "\n",
    "#### **출력**\n",
    "- 윈터 소개글(문자열): \"윈터는 그룹 에스파의 멤버로, 올해 21살이에요.\"\n",
    "\n",
    "#### **처리과정**\n",
    "1. 템플릿을 만든다: [이름]는 그룹 [소속그룹]의 멤버로, 올해 [나이]살이에요.\n",
    "2. 템플릿에 값을 추가하여 소개글을 완성한다\n",
    "    - 이름: profile[\"이름\"]\n",
    "    - 그룹: profile[\"소속그룹\"]\n",
    "    - 나이: profile[\"나이\"]\n",
    "3. 소개글을 출력한다\n"
   ]
  },
  {
   "cell_type": "markdown",
   "id": "2704617d-ea1e-49ef-b857-221044e0e4d7",
   "metadata": {},
   "source": [
    "#### **코드**\n",
    "**1. 템플릿 만들기**\n",
    "- 따옴표(\"\" or '') 안에 문장을 쓰되, 값이 들어갈 자리에 중괄호({})를 넣어주세요.\n",
    "\n",
    "        template = \"{}는 그룹 {}의 멤버로, 올해 {}살이에요.\"\n",
    "        \n",
    "**2. 템플릿에 값 추가하기**\n",
    "- 빈 칸이 들어간 템플릿 문자열 뒤에 **.format()** 을 쓰고, **빈 칸에 들어갈 값을 괄호 안에 순서대로** 써주세요.\n",
    "\n",
    "        intro = template.format(profile[\"이름\"], profile[\"소속그룹\"], profile[\"나이\"])\n",
    "        \n",
    "**[종합] 소개글 쓰고 출력하기**"
   ]
  },
  {
   "cell_type": "code",
   "execution_count": 55,
   "id": "917cf7cb-0346-45af-b0c2-d6270e0117cd",
   "metadata": {
    "colab": {
     "base_uri": "https://localhost:8080/"
    },
    "id": "917cf7cb-0346-45af-b0c2-d6270e0117cd",
    "outputId": "c1656713-6a81-457a-d48e-add27f8ded6b"
   },
   "outputs": [
    {
     "name": "stdout",
     "output_type": "stream",
     "text": [
      "윈터는 그룹 에스파의 멤버로, 올해 21살이에요.\n"
     ]
    }
   ],
   "source": [
    "# 소개글 템플릿 만들기\n",
    "template = \"{}는 그룹 {}의 멤버로, 올해 {}살이에요.\"\n",
    "\n",
    "# 소개글 템플릿에 값 추가하기\n",
    "intro = template.format(profile[\"이름\"], profile[\"소속그룹\"], profile[\"나이\"])\n",
    "\n",
    "# 소개글 출력하기\n",
    "print(intro)"
   ]
  },
  {
   "cell_type": "code",
   "execution_count": 56,
   "id": "305e20fd-3a20-40d6-a91b-306592c2d902",
   "metadata": {},
   "outputs": [
    {
     "name": "stdout",
     "output_type": "stream",
     "text": [
      "윈터는 그룹 에스파의 멤버로, 올해 21살이에요.\n"
     ]
    }
   ],
   "source": [
    "# 소개글 쓰고 바로 출력하기\n",
    "print(\"{}는 그룹 {}의 멤버로, 올해 {}살이에요.\".format(profile[\"이름\"], profile[\"소속그룹\"], profile[\"나이\"]))"
   ]
  },
  {
   "cell_type": "markdown",
   "id": "b5da30fd-ba65-4f0f-a1ac-c58ec1470098",
   "metadata": {
    "id": "b5da30fd-ba65-4f0f-a1ac-c58ec1470098"
   },
   "source": [
    "### **[과제] 전체 프로필 소개하기**\n",
    "\n",
    "프로필 전체 내용이 모두 들어간 소개글을 문장으로 써서 출력해보세요.\n",
    "\n",
    "- 입력: 딕셔너리 형태의 프로필\n",
    "\n",
    "- 출력: 문자열 형태의 소개글\n",
    "\n",
    "- 과정\n",
    "    1. 나이, 외국인 여부를 프로필에 저장하기\n",
    "    2. 모든 정보를 포함한 소개글 써서 출력하기: 이름, 출생, 소속그룹, 소속사, 국적, 나이, 외국인 여부\n"
   ]
  },
  {
   "cell_type": "markdown",
   "id": "55c72414-84e4-4c6f-a141-56043c19892f",
   "metadata": {
    "id": "55c72414-84e4-4c6f-a141-56043c19892f"
   },
   "source": [
    "#### **답안**"
   ]
  },
  {
   "cell_type": "code",
   "execution_count": 57,
   "id": "7e7461d9-e250-42a7-8181-4fc835cbd404",
   "metadata": {
    "id": "7e7461d9-e250-42a7-8181-4fc835cbd404"
   },
   "outputs": [],
   "source": [
    "############## 코드를 입력하세요 ###############\n",
    "# 프로필 (원하는 가수로 변경 가능)\n",
    "profile3 = {\n",
    "            \"이름\": \"윈터\",\n",
    "            \"출생\": \"2001년 1월 1일\",\n",
    "            \"소속그룹\": \"에스파\",\n",
    "            \"소속사\": \"SM엔터테인먼트\",\n",
    "            \"국적\": \"대한민국\"\n",
    "          }\n",
    "\n",
    "# 나이, 외국인 여부 저장하기\n",
    "\n",
    "\n",
    "\n",
    "# 소개글 써서 출력하기\n",
    "\n",
    "\n",
    "\n",
    "############################################"
   ]
  },
  {
   "cell_type": "markdown",
   "id": "183c6be5-87bc-4d52-96ba-ddc356ec8d25",
   "metadata": {},
   "source": [
    "---"
   ]
  },
  {
   "cell_type": "markdown",
   "id": "2a3948b5-5a16-4e4b-82a1-7824b8e59308",
   "metadata": {
    "id": "2a3948b5-5a16-4e4b-82a1-7824b8e59308"
   },
   "source": [
    "## **5. 좋아하는 가수들 소개하기**\n",
    "\n",
    "![이미지](https://raw.githubusercontent.com/teachsavvy/python_basics/main/profile_all.png)\n",
    "\n",
    "프로그래밍이 좋은 점 중 하나는 **규칙적인 작업을 반복할 수 있다**는 것입니다.\\\n",
    "앞서 가수를 소개할 때 템플릿을 만들고 소개글을 쓰는 코드를 짜보았죠.\\\n",
    "그럼 **똑같은 코드를 다른 가수에 대해서 반복 실행**하기만 하면 여러 가수를 소개할 수 있을 겁니다.\n",
    "\n",
    "이번에는 **여러 명의 가수를 자동으로 소개**해보겠습니다."
   ]
  },
  {
   "cell_type": "markdown",
   "id": "8df440b1-5506-4e88-8aa2-cc18d2fdb260",
   "metadata": {
    "id": "8df440b1-5506-4e88-8aa2-cc18d2fdb260"
   },
   "source": [
    "### **5.1. 가수들 프로필 입력하기**"
   ]
  },
  {
   "cell_type": "code",
   "execution_count": 58,
   "id": "3ac338fc-9a2c-4e67-93c9-f5046cccefe9",
   "metadata": {
    "colab": {
     "base_uri": "https://localhost:8080/"
    },
    "id": "3ac338fc-9a2c-4e67-93c9-f5046cccefe9",
    "outputId": "a1073a11-623e-4fae-b719-a296d7b5276f"
   },
   "outputs": [
    {
     "name": "stdout",
     "output_type": "stream",
     "text": [
      "{'이름': '윈터', '출생': '2001년 1월 1일', '소속그룹': '에스파', '소속사': 'SM엔터테인먼트', '국적': '대한민국'}\n",
      "{'이름': '카리나', '출생': '2000년 4월 11일', '소속그룹': '에스파', '소속사': 'SM엔터테인먼트', '국적': '대한민국'}\n",
      "{'이름': '지젤', '출생': '2000년 10월 30일', '소속그룹': '에스파', '소속사': 'SM엔터테인먼트', '국적': '일본'}\n",
      "{'이름': '닝닝', '출생': '2002년 10월 23일', '소속그룹': '에스파', '소속사': 'SM엔터테인먼트', '국적': '중국'}\n"
     ]
    }
   ],
   "source": [
    "############## 코드를 입력하세요 ###############\n",
    "\n",
    "# 딕셔너리의 이름과 내용을 바꿔주세요!\n",
    "winter = {\n",
    "            \"이름\": \"윈터\",\n",
    "            \"출생\": \"2001년 1월 1일\",\n",
    "            \"소속그룹\": \"에스파\",\n",
    "            \"소속사\": \"SM엔터테인먼트\",\n",
    "            \"국적\": \"대한민국\"\n",
    "          }\n",
    "karina = {\n",
    "            \"이름\": \"카리나\",\n",
    "            \"출생\": \"2000년 4월 11일\",\n",
    "            \"소속그룹\": \"에스파\",\n",
    "            \"소속사\": \"SM엔터테인먼트\",\n",
    "            \"국적\": \"대한민국\"\n",
    "          }\n",
    "giselle = {\n",
    "            \"이름\": \"지젤\",\n",
    "            \"출생\": \"2000년 10월 30일\",\n",
    "            \"소속그룹\": \"에스파\",\n",
    "            \"소속사\": \"SM엔터테인먼트\",\n",
    "            \"국적\": \"일본\"\n",
    "          }\n",
    "ningning = {\n",
    "            \"이름\": \"닝닝\",\n",
    "            \"출생\": \"2002년 10월 23일\",\n",
    "            \"소속그룹\": \"에스파\",\n",
    "            \"소속사\": \"SM엔터테인먼트\",\n",
    "            \"국적\": \"중국\"\n",
    "          }\n",
    "\n",
    "# 딕셔너리의 이름을 바꾸었다면 아래에도 바꿔주세요.\n",
    "print(winter)\n",
    "print(karina)\n",
    "print(giselle)\n",
    "print(ningning)\n",
    "\n",
    "#############################################"
   ]
  },
  {
   "cell_type": "markdown",
   "id": "d3ce83dc-4e87-412d-982c-1ba89e0c1467",
   "metadata": {
    "id": "d3ce83dc-4e87-412d-982c-1ba89e0c1467"
   },
   "source": [
    "#### **리스트**\n",
    "여러 가수의 프로필을 한 곳에 모아두면 같은 코드를 반복 실행하기 편할 겁니다.\\\n",
    "Python에서는 여러 개의 값을 모아서 저장할 때 '리스트(list)'를 활용합니다.\n",
    "\n",
    "- **리스트: 여러 개의 데이터(숫자, 문자, 딕셔너리 등)을 모아서 순서대로 저장한 것**\n",
    "\n",
    "#### **리스트 생성: []**\n",
    "- 리스트는 **대괄호 []** 로 만듭니다.\n",
    "\n",
    "        \n",
    "        aespa = []\n",
    "\n",
    "#### **리스트 입력**\n",
    "- 대괄호 안에 여러 개의 값을 **콤마(,)** 로 연결해 넣어주면 됩니다.\n",
    "\n",
    "        aespa = [winter, karina, giselle, ningning]\n",
    "        \n",
    "#### **리스트 자르기: [:]**\n",
    "- **리스트이름[시작 위치 : 끝나는 위치+1)**\n",
    "- 문자열 자르기와 유사함\n",
    "\n",
    "        aespa[:2]  # -> [winter, karina]\n",
    "        aespa[1:3] # -> [karina, giselle]\n",
    "        aespa[2:]  # -> [karina, giselle, ningning]"
   ]
  },
  {
   "cell_type": "code",
   "execution_count": 59,
   "id": "e2e1f1c0-1134-4c47-98b9-4036ffab7a47",
   "metadata": {
    "colab": {
     "base_uri": "https://localhost:8080/"
    },
    "id": "e2e1f1c0-1134-4c47-98b9-4036ffab7a47",
    "outputId": "79bac661-9b92-49ef-b215-b060e27abf21"
   },
   "outputs": [
    {
     "name": "stdout",
     "output_type": "stream",
     "text": [
      "[{'이름': '윈터', '출생': '2001년 1월 1일', '소속그룹': '에스파', '소속사': 'SM엔터테인먼트', '국적': '대한민국'}, {'이름': '카리나', '출생': '2000년 4월 11일', '소속그룹': '에스파', '소속사': 'SM엔터테인먼트', '국적': '대한민국'}, {'이름': '지젤', '출생': '2000년 10월 30일', '소속그룹': '에스파', '소속사': 'SM엔터테인먼트', '국적': '일본'}, {'이름': '닝닝', '출생': '2002년 10월 23일', '소속그룹': '에스파', '소속사': 'SM엔터테인먼트', '국적': '중국'}]\n"
     ]
    }
   ],
   "source": [
    "# 에스파 프로필 리스트 만들기\n",
    "aespa = [winter, karina, giselle, ningning]\n",
    "\n",
    "print(aespa)"
   ]
  },
  {
   "cell_type": "markdown",
   "id": "09eac6ef-d398-4fdf-9bc0-63b559cee554",
   "metadata": {
    "id": "09eac6ef-d398-4fdf-9bc0-63b559cee554"
   },
   "source": [
    "### **5.2. 가수들 프로필 변형하기**\n",
    "\n",
    "이번에는 앞서 만든 여러 기능을 활용해서,\n",
    "\n",
    "**여러 가수의 프로필에 나이와 외국인 여부를 추가**해보도록 하겠습니다.\n",
    "\n",
    "#### **입력**\n",
    "- 가수들 프로필 리스트(딕셔너리가 들어있는 리스트)\n",
    "\n",
    "#### **출력**\n",
    "- 변형된 가수들 프로필 리스트(딕셔너리가 들어있는 리스트, 딕셔너리마다 나이와 외국인 여부 추가)\n",
    "\n",
    "#### **처리과정**\n",
    "**: 가수들 프로필을 하나씩 가져와서 다음 과정 반복**\n",
    "1. 나이를 계산해서 저장하고\n",
    "2. 외국인 여부를 확인해서 저장하고\n",
    "3. 업데이트된 새로운 프로필을 출력한다\n"
   ]
  },
  {
   "cell_type": "markdown",
   "id": "b63e046d-25dc-4bbb-8101-a21d1bbfcf55",
   "metadata": {
    "id": "b63e046d-25dc-4bbb-8101-a21d1bbfcf55"
   },
   "source": [
    "#### **코드**\n",
    "**1. 같은 작업 반복하기: 반복문 - for**\n",
    "\n",
    "Python에서는 **리스트에 들어있는 값마다 동일한 작업을 반복할 때 for** 라는 기능을 활용합니다.\n",
    "\n",
    "**(예시) 에스파 멤버들의 프로필 출력하기**\n",
    "- 한국어: 에스파 프로필 리스트에 있는 프로필마다 출력해줘.\n",
    "- 영어: For every profile in the list of aespa's profiles, print the profile.\n",
    "- Python\n",
    "\n",
    "    - 에스파 프로필 리스트에 있는 프로필마다: for profile in aespa:\n",
    "    \n",
    "    - 출력해줘: print(profile)\n",
    "\n",
    "\n",
    "아래 코드를 보세요."
   ]
  },
  {
   "cell_type": "code",
   "execution_count": 60,
   "id": "992f612c-8d4a-4d6d-b7e6-9d2bce2ebfba",
   "metadata": {
    "colab": {
     "base_uri": "https://localhost:8080/"
    },
    "id": "992f612c-8d4a-4d6d-b7e6-9d2bce2ebfba",
    "outputId": "c20f62ae-c5c5-40e8-9d8b-1942f63b61b7"
   },
   "outputs": [
    {
     "name": "stdout",
     "output_type": "stream",
     "text": [
      "{'이름': '윈터', '출생': '2001년 1월 1일', '소속그룹': '에스파', '소속사': 'SM엔터테인먼트', '국적': '대한민국'}\n",
      "{'이름': '카리나', '출생': '2000년 4월 11일', '소속그룹': '에스파', '소속사': 'SM엔터테인먼트', '국적': '대한민국'}\n",
      "{'이름': '지젤', '출생': '2000년 10월 30일', '소속그룹': '에스파', '소속사': 'SM엔터테인먼트', '국적': '일본'}\n",
      "{'이름': '닝닝', '출생': '2002년 10월 23일', '소속그룹': '에스파', '소속사': 'SM엔터테인먼트', '국적': '중국'}\n"
     ]
    }
   ],
   "source": [
    "# 멤버 프로필 하나씩 출력하기\n",
    "for profile in aespa:\n",
    "    print(profile)"
   ]
  },
  {
   "cell_type": "markdown",
   "id": "56541b2b-970f-4859-b887-2eae1632e300",
   "metadata": {
    "id": "56541b2b-970f-4859-b887-2eae1632e300"
   },
   "source": [
    "**[적용] 에스파 프로필 변형하기**\n",
    "\n",
    "- 만약 완성된 코드가 있다면 이런 모양일 거예요.\n",
    "\n",
    "        # aespa 리스트에 들어있는 프로필마다\n",
    "        for profile in aespa:  \n",
    "        \n",
    "            # 나이를 추가해줘\n",
    "            # 외국인 여부를 추가해줘\n",
    "            # 업데이트된 프로필을 출력해줘\n",
    "\n",
    "- 우리는 이미 위에서 나이와 외국인 여부를 추가하는 코드를 썼습니다.\n",
    "- 위에서 쓴 코드를 아래 셀에 위치에 맞게 넣어서 실행해보세요."
   ]
  },
  {
   "cell_type": "code",
   "execution_count": 61,
   "id": "18bad417-1173-4e2c-97b1-54e84afe0a89",
   "metadata": {
    "colab": {
     "base_uri": "https://localhost:8080/"
    },
    "id": "18bad417-1173-4e2c-97b1-54e84afe0a89",
    "outputId": "47f7943a-8336-4f7d-e011-488253882f35"
   },
   "outputs": [
    {
     "name": "stdout",
     "output_type": "stream",
     "text": [
      "{'이름': '윈터', '출생': '2001년 1월 1일', '소속그룹': '에스파', '소속사': 'SM엔터테인먼트', '국적': '대한민국', '나이': 21, '외국인': False}\n",
      "{'이름': '카리나', '출생': '2000년 4월 11일', '소속그룹': '에스파', '소속사': 'SM엔터테인먼트', '국적': '대한민국', '나이': 22, '외국인': False}\n",
      "{'이름': '지젤', '출생': '2000년 10월 30일', '소속그룹': '에스파', '소속사': 'SM엔터테인먼트', '국적': '일본', '나이': 22, '외국인': True}\n",
      "{'이름': '닝닝', '출생': '2002년 10월 23일', '소속그룹': '에스파', '소속사': 'SM엔터테인먼트', '국적': '중국', '나이': 20, '외국인': True}\n"
     ]
    }
   ],
   "source": [
    "# aespa 리스트에 들어있는 프로필마다\n",
    "for profile in aespa:\n",
    "\n",
    "    ############## 코드를 입력하세요 ###############\n",
    "    \n",
    "    # 나이를 추가해줘(코드)\n",
    "    profile[\"나이\"] = 2022 - int(profile[\"출생\"][:4])\n",
    "\n",
    "    \n",
    "    # 외국인 여부를 추가해줘(코드)\n",
    "    profile[\"외국인\"] = profile[\"국적\"] != \"대한민국\"\n",
    "    \n",
    "    # 업데이트된 프로필을 출력해줘(코드)\n",
    "    print(profile)\n",
    "    \n",
    "    \n",
    "    ############################################"
   ]
  },
  {
   "cell_type": "markdown",
   "id": "09ead34b-228f-46f2-bbd0-490ab24942dd",
   "metadata": {
    "id": "09ead34b-228f-46f2-bbd0-490ab24942dd"
   },
   "source": [
    "### **5.3. 가수들 프로필 소개하기**    \n",
    "#### **입력**\n",
    "- 가수들 프로필 리스트(딕셔너리가 들어있는 리스트)\n",
    "\n",
    "#### **출력**\n",
    "- 변형된 가수들 프로필 리스트(딕셔너리가 들어있는 리스트, 딕셔너리마다 나이와 외국인 여부 추가)\n",
    "\n",
    "#### **처리과정**\n",
    "**: 가수들 프로필을 하나씩 가져와서 다음 과정 반복**\n",
    "1. 나이를 계산해서 저장하고\n",
    "2. 외국인 여부를 확인해서 저장하고\n",
    "3. 업데이트된 새로운 프로필을 출력한다"
   ]
  },
  {
   "cell_type": "markdown",
   "id": "833b4252-79ef-4c6a-87f3-0926f06906fe",
   "metadata": {
    "id": "833b4252-79ef-4c6a-87f3-0926f06906fe"
   },
   "source": [
    "#### **코드**\n",
    "**[적용] 가수들 프로필 소개하기**\n",
    "\n",
    "- 만약 완성된 코드가 있다면 이런 모양일 거예요.\n",
    "\n",
    "        for profile in aespa: # aespa 리스트에 들어있는 프로필마다\n",
    "        \n",
    "            # 나이를 추가해줘\n",
    "            \n",
    "            # 외국인 여부를 추가해줘\n",
    "            \n",
    "            # 업데이트된 프로필로 소개글을 써서 출력해줘\n",
    "            \n",
    "\n",
    "- 우리는 이미 위에서 소개글을 써서 출력하는 코드를 썼습니다.\n",
    "- 위에서 쓴 코드를 아래 셀에 위치에 맞게 넣어서 실행해보세요."
   ]
  },
  {
   "cell_type": "code",
   "execution_count": 68,
   "id": "3681bea2-faf0-4545-81e0-fc05d6fe4072",
   "metadata": {
    "colab": {
     "base_uri": "https://localhost:8080/"
    },
    "id": "3681bea2-faf0-4545-81e0-fc05d6fe4072",
    "outputId": "da32109e-ba24-4cb5-9ac5-5186ca7eb0d8"
   },
   "outputs": [
    {
     "name": "stdout",
     "output_type": "stream",
     "text": [
      "윈터는 그룹 에스파의 멤버로, 올해 21살이에요.\n",
      "카리나는 그룹 에스파의 멤버로, 올해 22살이에요.\n",
      "지젤는 그룹 에스파의 멤버로, 올해 22살이에요.\n",
      "닝닝는 그룹 에스파의 멤버로, 올해 20살이에요.\n"
     ]
    }
   ],
   "source": [
    "for profile in aespa: # aespa 리스트에 들어있는 프로필마다\n",
    "    \n",
    "    # 나이를 추가해줘\n",
    "    profile[\"나이\"] = 2022 - int(profile[\"출생\"][:4])\n",
    "\n",
    "    \n",
    "    # 외국인 여부를 추가해줘\n",
    "    profile[\"외국인\"] = profile[\"국적\"] != \"대한민국\"\n",
    "    \n",
    "    ############## 코드를 입력하세요 ###############\n",
    "    \n",
    "    # 업데이트된 프로필로 소개글을 써서 출력해줘(코드)\n",
    "    print(\"{}는 그룹 {}의 멤버로, 올해 {}살이에요.\".format(profile[\"이름\"], profile[\"소속그룹\"], profile[\"나이\"]))\n",
    "    \n",
    "    \n",
    "    ############################################"
   ]
  },
  {
   "cell_type": "markdown",
   "id": "9777748a-0df2-4424-a07e-bbd1649bd6b7",
   "metadata": {},
   "source": [
    "---"
   ]
  },
  {
   "cell_type": "markdown",
   "id": "c104b49a-09a1-46b1-8144-a4bfdac322bc",
   "metadata": {
    "id": "c104b49a-09a1-46b1-8144-a4bfdac322bc"
   },
   "source": [
    "## **6. 좋아하는 가수만 소개하기**\n",
    "\n",
    "프로그래밍이 유용한 점 중 하나는 수많은 데이터 중에서 **원하는 데이터만 빠르게 골라낼 수 있다**는 점입니다.\n",
    "\n",
    "대한민국에서 활동하는 수많은 가수들이 있을 텐데, 그 중에서 **내가 좋아하는 가수만 골라내서 소개**할 수 있을까요?\n",
    "\n",
    "![이미지](https://raw.githubusercontent.com/teachsavvy/python_basics/main/profile_groups.png)"
   ]
  },
  {
   "cell_type": "code",
   "execution_count": 69,
   "id": "a4b696da-61c6-43d6-998e-bd35821fa340",
   "metadata": {
    "colab": {
     "base_uri": "https://localhost:8080/",
     "height": 425
    },
    "id": "a4b696da-61c6-43d6-998e-bd35821fa340",
    "outputId": "718976e6-c459-4eb2-9251-731d3f7bf4e9"
   },
   "outputs": [
    {
     "data": {
      "text/html": [
       "<div>\n",
       "<style scoped>\n",
       "    .dataframe tbody tr th:only-of-type {\n",
       "        vertical-align: middle;\n",
       "    }\n",
       "\n",
       "    .dataframe tbody tr th {\n",
       "        vertical-align: top;\n",
       "    }\n",
       "\n",
       "    .dataframe thead th {\n",
       "        text-align: right;\n",
       "    }\n",
       "</style>\n",
       "<table border=\"1\" class=\"dataframe\">\n",
       "  <thead>\n",
       "    <tr style=\"text-align: right;\">\n",
       "      <th></th>\n",
       "      <th>번호</th>\n",
       "      <th>이름</th>\n",
       "      <th>출생</th>\n",
       "      <th>소속그룹</th>\n",
       "      <th>소속사</th>\n",
       "      <th>국적</th>\n",
       "    </tr>\n",
       "  </thead>\n",
       "  <tbody>\n",
       "    <tr>\n",
       "      <th>0</th>\n",
       "      <td>1</td>\n",
       "      <td>윈터</td>\n",
       "      <td>2001년 1월 1일</td>\n",
       "      <td>에스파</td>\n",
       "      <td>SM엔터테인먼트</td>\n",
       "      <td>대한민국</td>\n",
       "    </tr>\n",
       "    <tr>\n",
       "      <th>1</th>\n",
       "      <td>2</td>\n",
       "      <td>카리나</td>\n",
       "      <td>2000년 4월 11일</td>\n",
       "      <td>에스파</td>\n",
       "      <td>SM엔터테인먼트</td>\n",
       "      <td>대한민국</td>\n",
       "    </tr>\n",
       "    <tr>\n",
       "      <th>2</th>\n",
       "      <td>3</td>\n",
       "      <td>지젤</td>\n",
       "      <td>2000년 10월 30일</td>\n",
       "      <td>에스파</td>\n",
       "      <td>SM엔터테인먼트</td>\n",
       "      <td>일본</td>\n",
       "    </tr>\n",
       "    <tr>\n",
       "      <th>3</th>\n",
       "      <td>4</td>\n",
       "      <td>닝닝</td>\n",
       "      <td>2002년 10월 23일</td>\n",
       "      <td>에스파</td>\n",
       "      <td>SM엔터테인먼트</td>\n",
       "      <td>중국</td>\n",
       "    </tr>\n",
       "    <tr>\n",
       "      <th>4</th>\n",
       "      <td>5</td>\n",
       "      <td>민영</td>\n",
       "      <td>1990년 9월 12일</td>\n",
       "      <td>브레이브걸스</td>\n",
       "      <td>브레이브엔터테인먼트</td>\n",
       "      <td>대한민국</td>\n",
       "    </tr>\n",
       "    <tr>\n",
       "      <th>5</th>\n",
       "      <td>6</td>\n",
       "      <td>유정</td>\n",
       "      <td>1991년 5월 2일</td>\n",
       "      <td>브레이브걸스</td>\n",
       "      <td>브레이브엔터테인먼트</td>\n",
       "      <td>대한민국</td>\n",
       "    </tr>\n",
       "    <tr>\n",
       "      <th>6</th>\n",
       "      <td>7</td>\n",
       "      <td>은지</td>\n",
       "      <td>1992년 7월 19일</td>\n",
       "      <td>브레이브걸스</td>\n",
       "      <td>브레이브엔터테인먼트</td>\n",
       "      <td>대한민국</td>\n",
       "    </tr>\n",
       "    <tr>\n",
       "      <th>7</th>\n",
       "      <td>8</td>\n",
       "      <td>유나</td>\n",
       "      <td>1993년 4월 6일</td>\n",
       "      <td>브레이브걸스</td>\n",
       "      <td>브레이브엔터테인먼트</td>\n",
       "      <td>대한민국</td>\n",
       "    </tr>\n",
       "    <tr>\n",
       "      <th>8</th>\n",
       "      <td>9</td>\n",
       "      <td>지수</td>\n",
       "      <td>1995년 1월 3일</td>\n",
       "      <td>블랙핑크</td>\n",
       "      <td>YG엔터테인먼트</td>\n",
       "      <td>대한민국</td>\n",
       "    </tr>\n",
       "    <tr>\n",
       "      <th>9</th>\n",
       "      <td>10</td>\n",
       "      <td>제니</td>\n",
       "      <td>1996년 1월 16일</td>\n",
       "      <td>블랙핑크</td>\n",
       "      <td>YG엔터테인먼트</td>\n",
       "      <td>대한민국</td>\n",
       "    </tr>\n",
       "    <tr>\n",
       "      <th>10</th>\n",
       "      <td>11</td>\n",
       "      <td>로제</td>\n",
       "      <td>1997년 2월 11일</td>\n",
       "      <td>블랙핑크</td>\n",
       "      <td>YG엔터테인먼트</td>\n",
       "      <td>이중국적(대한민국/뉴질랜드)</td>\n",
       "    </tr>\n",
       "    <tr>\n",
       "      <th>11</th>\n",
       "      <td>12</td>\n",
       "      <td>리사</td>\n",
       "      <td>1997년 3월 27일</td>\n",
       "      <td>블랙핑크</td>\n",
       "      <td>YG엔터테인먼트</td>\n",
       "      <td>태국</td>\n",
       "    </tr>\n",
       "  </tbody>\n",
       "</table>\n",
       "</div>"
      ],
      "text/plain": [
       "    번호   이름             출생    소속그룹         소속사               국적\n",
       "0    1   윈터    2001년 1월 1일     에스파    SM엔터테인먼트             대한민국\n",
       "1    2  카리나   2000년 4월 11일     에스파    SM엔터테인먼트             대한민국\n",
       "2    3   지젤  2000년 10월 30일     에스파    SM엔터테인먼트               일본\n",
       "3    4   닝닝  2002년 10월 23일     에스파    SM엔터테인먼트               중국\n",
       "4    5   민영   1990년 9월 12일  브레이브걸스  브레이브엔터테인먼트             대한민국\n",
       "5    6   유정    1991년 5월 2일  브레이브걸스  브레이브엔터테인먼트             대한민국\n",
       "6    7   은지   1992년 7월 19일  브레이브걸스  브레이브엔터테인먼트             대한민국\n",
       "7    8   유나    1993년 4월 6일  브레이브걸스  브레이브엔터테인먼트             대한민국\n",
       "8    9   지수    1995년 1월 3일    블랙핑크    YG엔터테인먼트             대한민국\n",
       "9   10   제니   1996년 1월 16일    블랙핑크    YG엔터테인먼트             대한민국\n",
       "10  11   로제   1997년 2월 11일    블랙핑크    YG엔터테인먼트  이중국적(대한민국/뉴질랜드)\n",
       "11  12   리사   1997년 3월 27일    블랙핑크    YG엔터테인먼트               태국"
      ]
     },
     "metadata": {},
     "output_type": "display_data"
    },
    {
     "name": "stdout",
     "output_type": "stream",
     "text": [
      "[{'번호': 1, '이름': '윈터', '출생': '2001년 1월 1일', '소속그룹': '에스파', '소속사': 'SM엔터테인먼트', '국적': '대한민국'}, {'번호': 2, '이름': '카리나', '출생': '2000년 4월 11일', '소속그룹': '에스파', '소속사': 'SM엔터테인먼트', '국적': '대한민국'}, {'번호': 3, '이름': '지젤', '출생': '2000년 10월 30일', '소속그룹': '에스파', '소속사': 'SM엔터테인먼트', '국적': '일본'}, {'번호': 4, '이름': '닝닝', '출생': '2002년 10월 23일', '소속그룹': '에스파', '소속사': 'SM엔터테인먼트', '국적': '중국'}, {'번호': 5, '이름': '민영', '출생': '1990년 9월 12일', '소속그룹': '브레이브걸스', '소속사': '브레이브엔터테인먼트', '국적': '대한민국'}, {'번호': 6, '이름': '유정', '출생': '1991년 5월 2일', '소속그룹': '브레이브걸스', '소속사': '브레이브엔터테인먼트', '국적': '대한민국'}, {'번호': 7, '이름': '은지', '출생': '1992년 7월 19일', '소속그룹': '브레이브걸스', '소속사': '브레이브엔터테인먼트', '국적': '대한민국'}, {'번호': 8, '이름': '유나', '출생': '1993년 4월 6일', '소속그룹': '브레이브걸스', '소속사': '브레이브엔터테인먼트', '국적': '대한민국'}, {'번호': 9, '이름': '지수', '출생': '1995년 1월 3일', '소속그룹': '블랙핑크', '소속사': 'YG엔터테인먼트', '국적': '대한민국'}, {'번호': 10, '이름': '제니', '출생': '1996년 1월 16일', '소속그룹': '블랙핑크', '소속사': 'YG엔터테인먼트', '국적': '대한민국'}, {'번호': 11, '이름': '로제', '출생': '1997년 2월 11일', '소속그룹': '블랙핑크', '소속사': 'YG엔터테인먼트', '국적': '이중국적(대한민국/뉴질랜드)'}, {'번호': 12, '이름': '리사', '출생': '1997년 3월 27일', '소속그룹': '블랙핑크', '소속사': 'YG엔터테인먼트', '국적': '태국'}]\n"
     ]
    }
   ],
   "source": [
    "############# 이 코드의 의미는 모르셔도 됩니다 #############\n",
    "# 데이터 살펴보기\n",
    "import pandas as pd\n",
    "df = pd.read_csv(\"https://raw.githubusercontent.com/teachsavvy/python_basics/main/singers.csv\")\n",
    "display(df)\n",
    "profiles = df.to_dict(orient=\"records\")\n",
    "print(profiles)\n",
    "\n",
    "#####################################################"
   ]
  },
  {
   "cell_type": "markdown",
   "id": "4756d345-291a-41bc-88ec-3c431dce4b60",
   "metadata": {
    "id": "62078c0b-349f-49cc-bd1a-a7fe20bfc998"
   },
   "source": [
    "#### **입력**\n",
    "- 가수 프로필 목록(딕셔너리가 들어 있는 리스트)\n",
    "\n",
    "#### **출력**\n",
    "- 에스파 멤버들의 소개글\n",
    "\n",
    "#### **처리과정**\n",
    "가수 프로필 목록에 있는 프로필을 가져와서 다음 과정 반복\n",
    "1. 소속그룹이 에스파인지 확인한다\n",
    "2. 에스파이면\n",
    "    - 프로필에 나이와 외국인 여부를 추가해서\n",
    "    - 소개글을 쓰고 출력한다: \"윈터는 그룹 에스파의 멤버로, 올해 21살이에요.\"\n",
    "    \n",
    "#### **코드**\n",
    "**[적용] 에스파 프로필만 소개하기**\n",
    "\n",
    "- 만약 완성된 코드가 있다면 이런 모양일 거예요.\n",
    "\n",
    "        # 가수 프로필 리스트에 들어있는 프로필마다 \n",
    "        \n",
    "            # 만약 소속그룹이 에스파이면\n",
    "            \n",
    "                # 나이를 추가해줘\n",
    "                \n",
    "                # 외국인 여부를 추가해줘\n",
    "                \n",
    "                # 업데이트된 프로필로 소개글을 써서 출력해줘\n",
    "                \n",
    "\n",
    "- 우리는 이미 위에서 여러 개의 프로필을 소개하는 코드를 썼습니다.\n",
    "\n",
    "- 아래에는 위에서 쓴 코드가 써있습니다. 처리과정에 맞게 아래 코드를 변형해서 실행해보세요."
   ]
  },
  {
   "cell_type": "code",
   "execution_count": 70,
   "id": "b849e3b2-29f5-4840-bf15-2af7a1285ab1",
   "metadata": {
    "id": "b849e3b2-29f5-4840-bf15-2af7a1285ab1"
   },
   "outputs": [
    {
     "name": "stdout",
     "output_type": "stream",
     "text": [
      "윈터는 그룹 에스파의 멤버로, 올해 21살이에요.\n",
      "카리나는 그룹 에스파의 멤버로, 올해 22살이에요.\n",
      "지젤는 그룹 에스파의 멤버로, 올해 22살이에요.\n",
      "닝닝는 그룹 에스파의 멤버로, 올해 20살이에요.\n"
     ]
    }
   ],
   "source": [
    "# 가수 프로필 리스트에 들어있는 프로필마다\n",
    "for profile in profiles:\n",
    "    \n",
    "    ############## 코드를 입력하세요 ###############\n",
    "    \n",
    "    # 만약 소속그룹이 에스파이면\n",
    "    if profile[\"소속그룹\"] == \"에스파\":\n",
    "    \n",
    "    \n",
    "    ############################################\n",
    "    \n",
    "        # 나이를 추가해줘\n",
    "        profile[\"나이\"] = 2022 - int(profile[\"출생\"][:4])\n",
    "\n",
    "\n",
    "        # 외국인 여부를 추가해줘\n",
    "        profile[\"외국인\"] = profile[\"국적\"] != \"대한민국\"\n",
    "\n",
    "        \n",
    "\n",
    "        # 업데이트된 프로필로 소개글을 써서 출력해줘(코드)\n",
    "        print(\"{}는 그룹 {}의 멤버로, 올해 {}살이에요.\".format(profile[\"이름\"], profile[\"소속그룹\"], profile[\"나이\"]))\n",
    "    \n",
    "    \n",
    "    "
   ]
  },
  {
   "cell_type": "markdown",
   "id": "8ba114ed-efb8-4134-bf84-865538aa8461",
   "metadata": {},
   "source": [
    "### [과제] 외국인 여부도 넣어서 브레이브걸스만 소개하기\n",
    "- 입력: 가수 프로필 리스트\n",
    "- 출력: 브레이브걸스 멤버 소개글: \"유정은 그룹 브레이브걸스의 멤버로, 올해 31살이고 외국인이 아니에요.\n",
    "- 유의점\n",
    "    - 외국인 여부를 True나 False가 아니라 \"외국인이에요\" 또는 \"외국인이 아니에요\"로 표현해야 합니다.\n",
    "    \n",
    "#### 답안"
   ]
  },
  {
   "cell_type": "code",
   "execution_count": 71,
   "id": "9daff0f6-4320-4e32-a2ac-ad8bbc0a3c4f",
   "metadata": {
    "id": "c796188d-8e22-4cfc-81cc-75deea0d0f49"
   },
   "outputs": [
    {
     "name": "stdout",
     "output_type": "stream",
     "text": [
      "[{'번호': 1, '이름': '윈터', '출생': '2001년 1월 1일', '소속그룹': '에스파', '소속사': 'SM엔터테인먼트', '국적': '대한민국'}, {'번호': 2, '이름': '카리나', '출생': '2000년 4월 11일', '소속그룹': '에스파', '소속사': 'SM엔터테인먼트', '국적': '대한민국'}, {'번호': 3, '이름': '지젤', '출생': '2000년 10월 30일', '소속그룹': '에스파', '소속사': 'SM엔터테인먼트', '국적': '일본'}, {'번호': 4, '이름': '닝닝', '출생': '2002년 10월 23일', '소속그룹': '에스파', '소속사': 'SM엔터테인먼트', '국적': '중국'}, {'번호': 5, '이름': '민영', '출생': '1990년 9월 12일', '소속그룹': '브레이브걸스', '소속사': '브레이브엔터테인먼트', '국적': '대한민국'}, {'번호': 6, '이름': '유정', '출생': '1991년 5월 2일', '소속그룹': '브레이브걸스', '소속사': '브레이브엔터테인먼트', '국적': '대한민국'}, {'번호': 7, '이름': '은지', '출생': '1992년 7월 19일', '소속그룹': '브레이브걸스', '소속사': '브레이브엔터테인먼트', '국적': '대한민국'}, {'번호': 8, '이름': '유나', '출생': '1993년 4월 6일', '소속그룹': '브레이브걸스', '소속사': '브레이브엔터테인먼트', '국적': '대한민국'}, {'번호': 9, '이름': '지수', '출생': '1995년 1월 3일', '소속그룹': '블랙핑크', '소속사': 'YG엔터테인먼트', '국적': '대한민국'}, {'번호': 10, '이름': '제니', '출생': '1996년 1월 16일', '소속그룹': '블랙핑크', '소속사': 'YG엔터테인먼트', '국적': '대한민국'}, {'번호': 11, '이름': '로제', '출생': '1997년 2월 11일', '소속그룹': '블랙핑크', '소속사': 'YG엔터테인먼트', '국적': '이중국적(대한민국/뉴질랜드)'}, {'번호': 12, '이름': '리사', '출생': '1997년 3월 27일', '소속그룹': '블랙핑크', '소속사': 'YG엔터테인먼트', '국적': '태국'}]\n"
     ]
    }
   ],
   "source": [
    "# 데이터 로드\n",
    "import pandas as pd\n",
    "df = pd.read_csv(\"https://raw.githubusercontent.com/teachsavvy/python_basics/main/singers.csv\")\n",
    "profiles = df.to_dict(orient=\"records\")\n",
    "print(profiles)"
   ]
  },
  {
   "cell_type": "code",
   "execution_count": 72,
   "id": "9355cfe5-d976-4905-9f16-f74432e25359",
   "metadata": {
    "id": "c796188d-8e22-4cfc-81cc-75deea0d0f49"
   },
   "outputs": [],
   "source": [
    "############## 코드를 입력하세요 ###############\n",
    "\n",
    "\n",
    "\n",
    "############################################"
   ]
  },
  {
   "cell_type": "markdown",
   "id": "f5a330b3-f778-4385-bcc2-15ccd08247a7",
   "metadata": {
    "id": "6668123e-f91e-4e2c-be2d-4bfde95fa021"
   },
   "source": [
    "### **수고하셨습니다.**\n",
    "\n",
    "지금까지 좋아하는 가수를 소개하면서 Python의 기초를 배워보았습니다. 어떠셨나요?\n",
    "\n",
    "피드백이나 질문을 learn@kakao.com으로 보내주시면 제작자가 직접 답해드립니다. 감사합니다."
   ]
  },
  {
   "cell_type": "code",
   "execution_count": null,
   "id": "9641164e-011a-4d0e-ad07-cff561c57a01",
   "metadata": {},
   "outputs": [],
   "source": []
  }
 ],
 "metadata": {
  "colab": {
   "name": "python basics.ipynb",
   "provenance": []
  },
  "kernelspec": {
   "display_name": "Python 3",
   "language": "python",
   "name": "python3"
  },
  "language_info": {
   "codemirror_mode": {
    "name": "ipython",
    "version": 3
   },
   "file_extension": ".py",
   "mimetype": "text/x-python",
   "name": "python",
   "nbconvert_exporter": "python",
   "pygments_lexer": "ipython3",
   "version": "3.9.5"
  }
 },
 "nbformat": 4,
 "nbformat_minor": 5
}
